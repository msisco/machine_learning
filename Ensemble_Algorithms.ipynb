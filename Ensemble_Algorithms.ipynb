{
 "cells": [
  {
   "cell_type": "markdown",
   "metadata": {},
   "source": [
    "This Notebook will use a few machine learning algorithms to evaluate the KDD-99 dataset and then another one to Ensemble the methods together to hopefully create a better model than any single model"
   ]
  },
  {
   "cell_type": "code",
   "execution_count": 4,
   "metadata": {
    "collapsed": true
   },
   "outputs": [],
   "source": [
    "import pandas as pd\n",
    "import numpy as np\n",
    "from sklearn import datasets\n",
    "from sklearn.neighbors import KNeighborsClassifier\n",
    "from sklearn import svm"
   ]
  },
  {
   "cell_type": "code",
   "execution_count": 2,
   "metadata": {
    "collapsed": true
   },
   "outputs": [],
   "source": [
    "kdd = pd.read_csv(\"data/kddcup_data_10_percent\")\n",
    "protocol_types = pd.unique(kdd.protocol_type.ravel())\n",
    "protocol_dict = dict(zip(protocol_types,range(protocol_types.size)))\n",
    "\n",
    "service_types = pd.unique(kdd.service.ravel())\n",
    "service_dict = dict(zip(service_types,range(service_types.size)))\n",
    "\n",
    "flag_types = pd.unique(kdd.flag.ravel())\n",
    "flag_dict = dict(zip(flag_types,range(flag_types.size)))\n",
    "classification_dict = {\"back.\": \"dos\",\"land.\":\"dos\",\"neptune.\": \"dos\", \"pod.\": \"dos\", \"smurf.\":\"dos\",\"teardrop.\":\"dos\",\"loadmodule.\":\"u2r\",\"buffer_overflow.\":\"u2r\",\"perl.\":\"u2r\",\"rootkit.\":\"u2r\",\"ftp_write.\":\"r2l\",\"guess_passwd.\":\"r2l\",\"imap.\":\"r2l\",\"multihop.\":\"r2l\",\"phf.\":\"r2l\",\"spy.\":\"r2l\",\"warezclient.\":\"r2l\",\"warezmaster.\":\"r2l\",\"ipsweep.\":\"probe\",\"nmap.\":\"probe\",\"portsweep.\":\"probe\",\"satan.\":\"probe\"}\n",
    "classification_dict_test = {\"back.\": \"dos\",\"land.\":\"dos\",\"neptune.\": \"dos\", \"pod.\": \"dos\", \"smurf.\":\"dos\",\"teardrop.\":\"dos\",\"loadmodule.\":\"u2r\",\"buffer_overflow.\":\"u2r\",\"perl.\":\"u2r\",\"rootkit.\":\"u2r\",\"ftp_write.\":\"r2l\",\"guess_passwd.\":\"r2l\",\"imap.\":\"r2l\",\"multihop.\":\"r2l\",\"phf.\":\"r2l\",\"spy.\":\"r2l\",\"warezclient.\":\"r2l\",\"warezmaster.\":\"r2l\",\"ipsweep.\":\"probe\",\"nmap.\":\"probe\",\"portsweep.\":\"probe\",\"satan.\":\"probe\",\"snmpgetattack.\":\"dos\",\"apache2.\":\"dos\",\"udpstorm.\":\"dos\",\"processtable.\":\"dos\",\"mailbomb.\":\"dos\",\"xterm.\":\"u2r\",\"ps.\":\"u2r\",\"sqlattack.\":\"u2r\",\"named.\":\"r2l\",\"xlock.\":\"r2l\",\"xsnoop.\":\"r2l\",\"sendmail.\":\"r2l\",\"httptunnel.\":\"r2l\",\"worm.\":\"r2l\",\"saint.\":\"probe\",\"mscan.\":\"probe\",\"snmpguess.\":\"probe\"}\n",
    "\n",
    "\n",
    "kdd[\"protocol_type\"].replace(protocol_dict, inplace=True)\n",
    "kdd[\"service\"].replace(service_dict, inplace=True)\n",
    "kdd[\"flag\"].replace(flag_dict, inplace=True)\n",
    "kdd[\"classification\"].replace(classification_dict, inplace=True)"
   ]
  },
  {
   "cell_type": "code",
   "execution_count": 3,
   "metadata": {
    "collapsed": true
   },
   "outputs": [],
   "source": [
    "kdd_test = pd.read_csv(\"data/kddcup_test_data\")\n",
    "\n",
    "kdd_test[\"protocol_type\"].replace(protocol_dict, inplace=True)\n",
    "kdd_test[\"service\"].replace(service_dict, inplace=True)\n",
    "kdd_test[\"flag\"].replace(flag_dict, inplace=True)\n",
    "kdd_test[\"classification\"].replace(classification_dict_test, inplace=True)\n",
    "kdd_test[\"service\"].replace({\"icmp\":65}, inplace=True)"
   ]
  },
  {
   "cell_type": "code",
   "execution_count": 5,
   "metadata": {
    "collapsed": true
   },
   "outputs": [],
   "source": [
    "values = kdd.values\n",
    "kdd_X_train = values[:,:41]\n",
    "kdd_y_train = values[:,41]\n",
    "\n",
    "values_test = kdd_test.values\n",
    "kdd_X_test = values_test[:,:41]\n",
    "kdd_y_test = values_test[:,41]"
   ]
  },
  {
   "cell_type": "code",
   "execution_count": null,
   "metadata": {
    "collapsed": false
   },
   "outputs": [],
   "source": [
    "clf = svm.SVC()\n",
    "clf.fit(kdd_X_train,kdd_y_train)"
   ]
  },
  {
   "cell_type": "code",
   "execution_count": null,
   "metadata": {
    "collapsed": true
   },
   "outputs": [],
   "source": []
  }
 ],
 "metadata": {
  "kernelspec": {
   "display_name": "Python 2",
   "language": "python",
   "name": "python2"
  },
  "language_info": {
   "codemirror_mode": {
    "name": "ipython",
    "version": 2
   },
   "file_extension": ".py",
   "mimetype": "text/x-python",
   "name": "python",
   "nbconvert_exporter": "python",
   "pygments_lexer": "ipython2",
   "version": "2.7.9"
  }
 },
 "nbformat": 4,
 "nbformat_minor": 0
}
